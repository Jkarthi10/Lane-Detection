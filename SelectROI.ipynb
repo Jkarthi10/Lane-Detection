{
 "cells": [
  {
   "cell_type": "code",
   "execution_count": 1,
   "id": "fe1aa7a0-1576-4eda-a718-9c76662b33b3",
   "metadata": {},
   "outputs": [],
   "source": [
    "import numpy as np"
   ]
  },
  {
   "cell_type": "code",
   "execution_count": 2,
   "id": "35d9fde6-6300-411b-aa74-665245dd11c7",
   "metadata": {},
   "outputs": [],
   "source": [
    "def draw_polygon(event, x, y, flags, param):\n",
    "    global drawing, points\n",
    "\n",
    "    if event == cv2.EVENT_LBUTTONDOWN:\n",
    "        drawing = True\n",
    "        points.append((x, y))\n",
    "\n",
    "    elif event == cv2.EVENT_LBUTTONUP:\n",
    "        drawing = False\n",
    "        cv2.polylines(frame, [np.array(points)], isClosed=True, color=(255, 0, 0), thickness=2)\n",
    "        cv2.imshow('Select Polygon', frame)\n"
   ]
  },
  {
   "cell_type": "code",
   "execution_count": 3,
   "id": "cb67f660-fe94-49b9-bfb8-b2e692df5cb3",
   "metadata": {},
   "outputs": [
    {
     "name": "stdout",
     "output_type": "stream",
     "text": [
      "Selected Polygon Vertices: [(7, 691), (485, 368), (800, 373), (1096, 691)]\n"
     ]
    }
   ],
   "source": [
    "import cv2\n",
    "\n",
    "# Global variables\n",
    "drawing = False\n",
    "points = []\n",
    "\n",
    "\n",
    "# Open a video file\n",
    "video_capture = cv2.VideoCapture('Lane detect test data.mp4')\n",
    "\n",
    "# Read the first frame\n",
    "ret, frame = video_capture.read()\n",
    "\n",
    "# Create a window\n",
    "cv2.namedWindow('Select Polygon')\n",
    "\n",
    "# Set up the callback function\n",
    "cv2.setMouseCallback('Select Polygon', draw_polygon)\n",
    "\n",
    "while True:\n",
    "    cv2.imshow('Select Polygon', frame)\n",
    "\n",
    "    key = cv2.waitKey(1) & 0xFF\n",
    "\n",
    "    if key == ord('c'):\n",
    "        frame = video_capture.read()[1]  # Refresh the frame\n",
    "        points = []\n",
    "    elif key == ord('q'):\n",
    "        break\n",
    "\n",
    "cv2.destroyAllWindows()\n",
    "\n",
    "# Print the selected polygon vertices\n",
    "print(\"Selected Polygon Vertices:\", points)\n",
    "\n",
    "# Release the video capture object\n",
    "video_capture.release()\n"
   ]
  },
  {
   "cell_type": "code",
   "execution_count": null,
   "id": "54dd7be7-720e-4895-94cd-7184fbfbbbf7",
   "metadata": {},
   "outputs": [],
   "source": []
  }
 ],
 "metadata": {
  "kernelspec": {
   "display_name": "Python 3 (ipykernel)",
   "language": "python",
   "name": "python3"
  },
  "language_info": {
   "codemirror_mode": {
    "name": "ipython",
    "version": 3
   },
   "file_extension": ".py",
   "mimetype": "text/x-python",
   "name": "python",
   "nbconvert_exporter": "python",
   "pygments_lexer": "ipython3",
   "version": "3.8.3"
  }
 },
 "nbformat": 4,
 "nbformat_minor": 5
}
